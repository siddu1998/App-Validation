{
 "cells": [
  {
   "cell_type": "markdown",
   "metadata": {},
   "source": [
    "App validation dataset (there are sutle changes compared with the previous this mainly comes since we rule out a few calculations)"
   ]
  },
  {
   "cell_type": "code",
   "execution_count": 1,
   "metadata": {},
   "outputs": [],
   "source": [
    "import math\n",
    "import cv2\n",
    "import matplotlib.pyplot as plt\n",
    "import numpy as np\n",
    "import pandas as pd\n",
    "from scipy.spatial import distance\n",
    "import utm\n",
    "\n",
    "from GPSPhoto import gpsphoto\n"
   ]
  },
  {
   "cell_type": "code",
   "execution_count": 2,
   "metadata": {},
   "outputs": [],
   "source": [
    "def get_distance_between_two_consecutive_images(cordinate_1,cordinate_2):\n",
    "    return distance.euclidean(cordinate_1,cordinate_2)\n",
    "def distance_two_points_along_x(A,B):\n",
    "    return A[0]-B[0]\n",
    "def distance_two_points_along_y(A,B):\n",
    "    return A[1]-B[1]"
   ]
  },
  {
   "cell_type": "code",
   "execution_count": 3,
   "metadata": {},
   "outputs": [],
   "source": [
    "def clear_distortions(img_before_distance):\n",
    "    \n",
    "    #mi8 (change)\n",
    "    mtx=[[3095.73828160516,0,2016.7322805317165],[0,3102.1298848836359,1510.5872677598889],[0,0,1]] \n",
    "    dist=[ 0.21522014938761402 , -0.29536385974743162 , -0.0062158816142389856,0.0031376495475325976 ]\n",
    "    \n",
    "    #converting into numpy\n",
    "    mtx = np.array(mtx)\n",
    "    dist=np.array(dist)\n",
    "    \n",
    "    #image dimensions\n",
    "    image_height,image_width,_=img_before_distance.shape\n",
    "\n",
    "    #pumping distortion matrix\n",
    "    newcameramtx, roi=cv2.getOptimalNewCameraMatrix(mtx,dist,(image_width,image_height),1,(image_width,image_height))\n",
    "\n",
    "    #undistort image_before_distance\n",
    "    img_before_distance = cv2.undistort(img_before_distance, mtx, dist, None, newcameramtx)\n",
    "    x,y,w,h = roi\n",
    "    undistorted_image = img_before_distance[y:y+h, x:x+w]\n",
    "\n",
    "    #undistort image_after_distance\n",
    "\n",
    "    return undistorted_image\n"
   ]
  },
  {
   "cell_type": "code",
   "execution_count": 4,
   "metadata": {},
   "outputs": [],
   "source": [
    "def parsing_annotations(highway_sign_annotations,image_file_name):\n",
    "   \n",
    "    highway_signs = pd.read_csv(highway_sign_annotations)\n",
    "    \n",
    "    for index,row in highway_signs.iterrows():\n",
    "        if row['frame_number']== image_file_name:\n",
    "            sign_top_left_x=row['top_x']\n",
    "            sign_top_left_y=row['top_y']\n",
    "            sign_width=row['width']\n",
    "            sign_height=row['height']\n",
    "            class_of_sign=['class']\n",
    "\n",
    "    return [sign_top_left_x,sign_top_left_y,sign_width,sign_height,class_of_sign]\n"
   ]
  },
  {
   "cell_type": "code",
   "execution_count": 5,
   "metadata": {},
   "outputs": [],
   "source": [
    "def find_center_of_sign(sign_details_list):\n",
    "    sign_top_left_x=sign_details_list[0]\n",
    "    sign_top_left_y=sign_details_list[1]\n",
    "    sign_width=sign_details_list[2]\n",
    "    sign_height=sign_details_list[3]\n",
    "\n",
    "    location_sign=(int((sign_top_left_x+sign_top_left_x+sign_width)/2),int((sign_top_left_y+sign_top_left_y+sign_height)/2))\n",
    "    print(\"center of the sign\",location_sign)\n",
    "    print(\"------------------------------------------\")\n",
    "    return location_sign"
   ]
  },
  {
   "cell_type": "code",
   "execution_count": 6,
   "metadata": {},
   "outputs": [],
   "source": [
    "def finding_relative_location_of_image(center_sign,image_width):\n",
    "    if center_sign[0]<image_width/2:\n",
    "        print(\"sign is to the left of the vehicle\")\n",
    "        return -1\n",
    "    elif center_sign[0]>image_width/2:\n",
    "        print(\"sign is to the right of the vehicle\")\n",
    "        return 1\n",
    "    else:\n",
    "        print(\"sign is alligned with the optical axis\")\n",
    "        return 0\n"
   ]
  },
  {
   "cell_type": "code",
   "execution_count": 22,
   "metadata": {},
   "outputs": [],
   "source": [
    "def trignometric_calculations(x1,x2,f):\n",
    "    dst= 3.16992\n",
    "    print('The images are taken at a distance of {} m '.format(dst)) \n",
    "    if(x2-x1)!=0:\n",
    "        l =  dst * x1/(x2-x1) \n",
    "        w = l * (x2)/f \n",
    "    elif (x2-x1)==0:\n",
    "        l=dst * x1\n",
    "        w=l*(x2)/f\n",
    "    #w--> how right or how left the sign is (x-axis)\n",
    "    #l--> how ahead the sign is (y-axis)\n",
    "    print('how inclined:', w) #add to the x-cordinate\n",
    "    print('how ahead:', l) #add to the y-cordinate\n",
    "    "
   ]
  },
  {
   "cell_type": "code",
   "execution_count": 23,
   "metadata": {},
   "outputs": [],
   "source": [
    "def calculation_of_distances(image_file_name_before_distance,image_file_name_after_distance,sign_annotations,f):\n",
    "    #load image     \n",
    "    #print(image_file_name_before_distance,image_file_name_after_distance)\n",
    "    img_before_distance = cv2.imread(image_file_name_before_distance)\n",
    "    img_after_distance  = cv2.imread(image_file_name_after_distance)\n",
    "    #clear distortions\n",
    "    img_before_distance = clear_distortions(img_before_distance)\n",
    "    img_after_distance  = clear_distortions(img_after_distance)\n",
    "    #calculate image center and dimensions\n",
    "    image_height,image_width,_=img_before_distance.shape\n",
    "    image_center = (int(image_width/2),int(image_height/2))\n",
    "    print('image_center',image_center)\n",
    "    print('---------------------------------')\n",
    "    print(\"width of image\",image_width)\n",
    "    print(\"height of image\",image_height)\n",
    "    print(\"-----------------------------------\")\n",
    "    #parse annotations for details\n",
    "    sign_before_distance = parsing_annotations(sign_annotations,image_file_name_before_distance)\n",
    "    #print(sign_before_distance)\n",
    "    sign_after_distance  = parsing_annotations(sign_annotations,image_file_name_after_distance)\n",
    "    #print(sign_after_distance)\n",
    "    #if we are dealing with the same image proceed as else inform and kill \n",
    "    if sign_after_distance[4]==sign_before_distance[4]:\n",
    "        #Find center of sign\n",
    "        center_before_distance = find_center_of_sign(sign_before_distance)\n",
    "        center_after_distance  = find_center_of_sign(sign_after_distance)\n",
    "        #distance between center and sign\n",
    "        x1=distance_two_points_along_x(center_before_distance,image_center)\n",
    "        print('distance of the sign from the center image 1',x1)\n",
    "        x2=distance_two_points_along_x(center_after_distance,image_center)\n",
    "        print('distance of the sign from the center image 2',x2)\n",
    "        print(\"-------------------------------------------------------\")\n",
    "        #getting camera_cordinates_to_calculate distance between images\n",
    "        #camera_cordinates=parsing_camrea_annotations(image_file_name_after_distance,camera_annotations)\n",
    "        #camera_cordinates_image_1=parsing_camrea_annotations(image_file_name_before_distance,camera_annotations)\n",
    "        #getting distances from camera\n",
    "        distance_tuple=trignometric_calculations(x1,x2,f)\n",
    "        #understanding spatial location\n",
    "        right_or_left = finding_relative_location_of_image(center_after_distance,image_width)\n",
    "        #adding and subtracting images \n",
    "        #final_positions = camera_to_sign(camera_cordinates,distance_tuple,right_or_left)\n",
    "        #error_analysis(final_positions)\n",
    "        return distance_tuple\n",
    "    else:\n",
    "        print('Sorry, We could not find the same sign on both the images')\n",
    "        return (0,0)\n"
   ]
  },
  {
   "cell_type": "code",
   "execution_count": 24,
   "metadata": {},
   "outputs": [
    {
     "name": "stdout",
     "output_type": "stream",
     "text": [
      "image_center (1953, 1467)\n",
      "---------------------------------\n",
      "width of image 3907\n",
      "height of image 2934\n",
      "-----------------------------------\n",
      "center of the sign (2984, 1028)\n",
      "------------------------------------------\n",
      "center of the sign (3058, 1020)\n",
      "------------------------------------------\n",
      "distance of the sign from the center image 1 1031\n",
      "distance of the sign from the center image 2 1105\n",
      "-------------------------------------------------------\n",
      "The images are taken at a distance of 3.16992 m \n",
      "how inclined: 16.26732977297297\n",
      "how ahead: 44.164696216216214\n",
      "sign is to the right of the vehicle\n"
     ]
    }
   ],
   "source": [
    "calculation_of_distances('104921.jpg','105857.jpg','sign_annotations.csv',f=3000)"
   ]
  },
  {
   "cell_type": "code",
   "execution_count": 25,
   "metadata": {},
   "outputs": [
    {
     "name": "stdout",
     "output_type": "stream",
     "text": [
      "image_center (1953, 1467)\n",
      "---------------------------------\n",
      "width of image 3907\n",
      "height of image 2934\n",
      "-----------------------------------\n",
      "center of the sign (3058, 1020)\n",
      "------------------------------------------\n",
      "center of the sign (3544, 1163)\n",
      "------------------------------------------\n",
      "distance of the sign from the center image 1 1105\n",
      "distance of the sign from the center image 2 1591\n",
      "-------------------------------------------------------\n",
      "The images are taken at a distance of 3.16992 m \n",
      "how inclined: 3.8222864921810693\n",
      "how ahead: 7.207328395061728\n",
      "sign is to the right of the vehicle\n"
     ]
    }
   ],
   "source": [
    "calculation_of_distances('105857.jpg','110233.jpg','sign_annotations.csv',f=3000)"
   ]
  },
  {
   "cell_type": "code",
   "execution_count": 26,
   "metadata": {},
   "outputs": [
    {
     "name": "stdout",
     "output_type": "stream",
     "text": [
      "image_center (1953, 1467)\n",
      "---------------------------------\n",
      "width of image 3907\n",
      "height of image 2934\n",
      "-----------------------------------\n",
      "center of the sign (3544, 1163)\n",
      "------------------------------------------\n",
      "center of the sign (3236, 1009)\n",
      "------------------------------------------\n",
      "distance of the sign from the center image 1 1591\n",
      "distance of the sign from the center image 2 1283\n",
      "-------------------------------------------------------\n",
      "The images are taken at a distance of 3.16992 m \n",
      "how inclined: -7.002823278961038\n",
      "how ahead: -16.37448935064935\n",
      "sign is to the right of the vehicle\n"
     ]
    }
   ],
   "source": [
    "calculation_of_distances('110233.jpg','110514.jpg','sign_annotations.csv',f=3000)"
   ]
  },
  {
   "cell_type": "code",
   "execution_count": null,
   "metadata": {},
   "outputs": [],
   "source": []
  }
 ],
 "metadata": {
  "kernelspec": {
   "display_name": "Python 3",
   "language": "python",
   "name": "python3"
  },
  "language_info": {
   "codemirror_mode": {
    "name": "ipython",
    "version": 3
   },
   "file_extension": ".py",
   "mimetype": "text/x-python",
   "name": "python",
   "nbconvert_exporter": "python",
   "pygments_lexer": "ipython3",
   "version": "3.5.2"
  }
 },
 "nbformat": 4,
 "nbformat_minor": 2
}
